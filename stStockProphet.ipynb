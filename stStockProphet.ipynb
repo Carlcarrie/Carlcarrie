{
  "nbformat": 4,
  "nbformat_minor": 0,
  "metadata": {
    "colab": {
      "name": "stStockProphet.ipynb",
      "provenance": [],
      "collapsed_sections": [],
      "authorship_tag": "ABX9TyNk2OspRGQMhOkUT3WNGRtR",
      "include_colab_link": true
    },
    "kernelspec": {
      "name": "python3",
      "display_name": "Python 3"
    },
    "language_info": {
      "name": "python"
    }
  },
  "cells": [
    {
      "cell_type": "markdown",
      "metadata": {
        "id": "view-in-github",
        "colab_type": "text"
      },
      "source": [
        "<a href=\"https://colab.research.google.com/github/Carlcarrie/Carlcarrie/blob/main/stStockProphet.ipynb\" target=\"_parent\"><img src=\"https://colab.research.google.com/assets/colab-badge.svg\" alt=\"Open In Colab\"/></a>"
      ]
    },
    {
      "cell_type": "code",
      "execution_count": 9,
      "metadata": {
        "id": "tuHdjZI-u8ya"
      },
      "outputs": [],
      "source": [
        "! pip install streamlit --quiet"
      ]
    },
    {
      "cell_type": "code",
      "source": [
        "! pip install yfinance --quiet"
      ],
      "metadata": {
        "id": "1CobAxGG0c9N"
      },
      "execution_count": 10,
      "outputs": []
    },
    {
      "cell_type": "code",
      "source": [
        "! pip install NeuralProphet --quiet"
      ],
      "metadata": {
        "colab": {
          "base_uri": "https://localhost:8080/"
        },
        "id": "fwA2imaRFvOd",
        "outputId": "1bd7f957-d127-4619-b8e4-8438b993a570"
      },
      "execution_count": 30,
      "outputs": [
        {
          "output_type": "stream",
          "name": "stdout",
          "text": [
            "\u001b[K     |████████████████████████████████| 67 kB 2.7 MB/s \n",
            "\u001b[K     |████████████████████████████████| 155 kB 5.6 MB/s \n",
            "\u001b[?25h"
          ]
        }
      ]
    },
    {
      "cell_type": "markdown",
      "source": [
        ""
      ],
      "metadata": {
        "id": "B_BDAb4pwBBo"
      }
    },
    {
      "cell_type": "code",
      "source": [
        "%%writefile app.py\n",
        "import streamlit as st\n",
        "from datetime import date\n",
        "\n",
        "import yfinance as yf\n",
        "from fbprophet import Prophet\n",
        "from fbprophet.plot import plot_plotly\n",
        "from plotly import graph_objs as go\n",
        "\n",
        "START = \"2018-01-01\"\n",
        "TODAY = date.today().strftime(\"%Y-%m-%d\")\n",
        "\n",
        "st.title('Stock Forecast - Crude, to illustrate Tunneling Streamlit over Colab')\n",
        "st.header('using Univariate Meta Prophet Model on Daily Stock Close Price Data')\n",
        "#st.subheader('and Google Colab and Localtunnel for rendering Streamlit Code')\n",
        "\n",
        "stocks = ('AAL',\n",
        "          'AAPL',\n",
        "          'BAC',\n",
        "          'CCL',\n",
        "          'DIDI',\n",
        "          'GOOG',\n",
        "          'GME',\n",
        "          'F',\n",
        "          'MSFT',\n",
        "          'NIO',\n",
        "          'NVDA',\n",
        "          'PFE',\n",
        "          'SOFI',\n",
        "          'T'\n",
        ")\n",
        "selected_stock = st.selectbox('Select stock', stocks)\n",
        "\n",
        "period = st.slider('How many days to Predict', 1, 100)\n",
        "\n",
        "@st.cache\n",
        "def load_data(ticker):\n",
        "    data = yf.download(ticker, START, TODAY)\n",
        "    data.reset_index(inplace=True)\n",
        "    return data\n",
        "\n",
        "    \n",
        "data_load_state = st.text('Loading data...')\n",
        "data = load_data(selected_stock)\n",
        "data_load_state.text('Loading data... done!')\n",
        "\n",
        "st.subheader('Data Table of most recent 5-days of OHLC Stock Prices')\n",
        "st.write(data.tail())\n",
        "\n",
        "# Plot raw data\n",
        "def plot_raw_data():\n",
        "    fig = go.Figure()\n",
        "    fig.add_trace(go.Scatter(x=data['Date'], y=data['Adj Close'], name=\"stock_close\"))\n",
        "    fig.layout.update(title_text=f'Time Series of {selected_stock} Adjusted Close Prices', xaxis_rangeslider_visible=True)\n",
        "    st.plotly_chart(fig)\n",
        "    \n",
        "plot_raw_data()\n",
        "\n",
        "# Predict forecast with Prophet.\n",
        "df_train = data[['Date','Close']]\n",
        "df_train = df_train.rename(columns={\"Date\": \"ds\", \"Close\": \"y\"})\n",
        "\n",
        "m = Prophet()\n",
        "m.fit(df_train)\n",
        "future = m.make_future_dataframe(periods=period)\n",
        "forecast = m.predict(future)\n",
        "\n",
        "# Show and plot forecast\n",
        "st.subheader(f'Forecast data for 5-day recent subset of {period} rolling days of predictions')\n",
        "st.write(forecast.tail())\n",
        "    \n",
        "st.write(f'Forecast plot for {period} days')\n",
        "fig1 = plot_plotly(m, forecast)\n",
        "st.plotly_chart(fig1)\n",
        "\n",
        "st.write(\"Forecast components\")\n",
        "fig2 = m.plot_components(forecast)\n",
        "st.write(fig2)\n",
        "\n",
        "st.write('###### End #######')\n"
      ],
      "metadata": {
        "colab": {
          "base_uri": "https://localhost:8080/"
        },
        "id": "JUAbkkX2vG2A",
        "outputId": "ded19553-307b-49fb-fa61-ace25c4e9ca8"
      },
      "execution_count": 1,
      "outputs": [
        {
          "output_type": "stream",
          "name": "stdout",
          "text": [
            "Overwriting app.py\n"
          ]
        }
      ]
    },
    {
      "cell_type": "code",
      "source": [
        "! streamlit run app.py & npx localtunnel --port 8501"
      ],
      "metadata": {
        "colab": {
          "base_uri": "https://localhost:8080/"
        },
        "id": "ctIshobvvdXU",
        "outputId": "fae46134-66ba-4011-9c4c-238342dd9c43"
      },
      "execution_count": null,
      "outputs": [
        {
          "output_type": "stream",
          "name": "stdout",
          "text": [
            "\u001b[0m\n",
            "\u001b[34m\u001b[1m  You can now view your Streamlit app in your browser.\u001b[0m\n",
            "\u001b[0m\n",
            "\u001b[34m  Network URL: \u001b[0m\u001b[1mhttp://172.28.0.2:8501\u001b[0m\n",
            "\u001b[34m  External URL: \u001b[0m\u001b[1mhttp://35.236.149.223:8501\u001b[0m\n",
            "\u001b[0m\n",
            "\u001b[K\u001b[?25hnpx: installed 22 in 6.126s\n",
            "2021-12-29 21:50:55.484 NumExpr defaulting to 2 threads.\n",
            "your url is: https://serious-lionfish-6.loca.lt\n",
            "[*********************100%***********************]  1 of 1 completed\n",
            "2021-12-29 21:51:00.727 Disabling daily seasonality. Run prophet with daily_seasonality=True to override this.\n",
            "Initial log joint probability = -18.6761\n",
            "    Iter      log prob        ||dx||      ||grad||       alpha      alpha0  # evals  Notes \n",
            "      99       2472.08      0.027197       1711.91           1           1      117   \n",
            "    Iter      log prob        ||dx||      ||grad||       alpha      alpha0  # evals  Notes \n",
            "     199       2533.91   0.000998069       158.518           1           1      229   \n",
            "    Iter      log prob        ||dx||      ||grad||       alpha      alpha0  # evals  Notes \n",
            "     299       2549.33     0.0193854       272.095           1           1      353   \n",
            "    Iter      log prob        ||dx||      ||grad||       alpha      alpha0  # evals  Notes \n",
            "     317       2555.79   0.000309808       262.929    2.22e-06       0.001      413  LS failed, Hessian reset \n",
            "     399       2563.04     0.0104832       110.238           1           1      516   \n",
            "    Iter      log prob        ||dx||      ||grad||       alpha      alpha0  # evals  Notes \n",
            "     459       2567.87   0.000425752       244.471   4.643e-06       0.001      676  LS failed, Hessian reset \n",
            "     499       2572.07     0.0004325       197.519      0.2324      0.2324      732   \n",
            "    Iter      log prob        ||dx||      ||grad||       alpha      alpha0  # evals  Notes \n",
            "     598       2577.33    0.00012909       140.111   5.694e-07       0.001      903  LS failed, Hessian reset \n",
            "     599       2577.34    5.8535e-05       116.524           1           1      904   \n",
            "    Iter      log prob        ||dx||      ||grad||       alpha      alpha0  # evals  Notes \n",
            "     699        2580.4    0.00107541       73.4077           1           1     1030   \n",
            "    Iter      log prob        ||dx||      ||grad||       alpha      alpha0  # evals  Notes \n",
            "     735       2581.03   0.000124461       123.456   1.513e-06       0.001     1113  LS failed, Hessian reset \n",
            "     771       2581.69   7.90116e-05       93.8655   7.041e-07       0.001     1197  LS failed, Hessian reset \n",
            "     799       2581.81   1.31378e-05       60.1625      0.7519      0.7519     1234   \n",
            "    Iter      log prob        ||dx||      ||grad||       alpha      alpha0  # evals  Notes \n",
            "     899       2584.14   9.25497e-05       63.4763      0.3424           1     1364   \n",
            "    Iter      log prob        ||dx||      ||grad||       alpha      alpha0  # evals  Notes \n",
            "     918       2584.26   8.08124e-05       56.1038   4.332e-07       0.001     1431  LS failed, Hessian reset \n",
            "     945       2584.29   2.95348e-05        51.308   3.778e-07       0.001     1511  LS failed, Hessian reset \n",
            "     999       2584.35    0.00032571       83.2874           1           1     1579   \n",
            "    Iter      log prob        ||dx||      ||grad||       alpha      alpha0  # evals  Notes \n",
            "    1009       2584.44   0.000249987       131.517   2.942e-06       0.001     1636  LS failed, Hessian reset \n",
            "    1099       2585.41     0.0862849       247.052           1           1     1744   \n",
            "    Iter      log prob        ||dx||      ||grad||       alpha      alpha0  # evals  Notes \n",
            "    1199       2593.07   0.000327016       85.2105           1           1     1872   \n",
            "    Iter      log prob        ||dx||      ||grad||       alpha      alpha0  # evals  Notes \n",
            "    1299       2594.24   1.25572e-05       71.5191       0.495       0.495     2002   \n",
            "    Iter      log prob        ||dx||      ||grad||       alpha      alpha0  # evals  Notes \n",
            "    1333       2594.27   7.30334e-05       72.0781   1.177e-06       0.001     2089  LS failed, Hessian reset \n",
            "    1399        2594.3   4.89874e-06       74.1589      0.8999      0.8999     2176   \n",
            "    Iter      log prob        ||dx||      ||grad||       alpha      alpha0  # evals  Notes \n",
            "    1422        2594.3   3.77716e-06        44.317      0.2813           1     2209   \n",
            "Optimization terminated normally: \n",
            "  Convergence detected: relative gradient magnitude is below tolerance\n",
            "[*********************100%***********************]  1 of 1 completed\n",
            "2021-12-29 21:51:18.883 Disabling daily seasonality. Run prophet with daily_seasonality=True to override this.\n",
            "Initial log joint probability = -10.1511\n",
            "    Iter      log prob        ||dx||      ||grad||       alpha      alpha0  # evals  Notes \n",
            "      99       3386.75   0.000752858        670.48      0.2184      0.2184      121   \n",
            "    Iter      log prob        ||dx||      ||grad||       alpha      alpha0  # evals  Notes \n",
            "     199       3410.22   0.000332124       471.735      0.2102      0.2102      234   \n",
            "    Iter      log prob        ||dx||      ||grad||       alpha      alpha0  # evals  Notes \n",
            "     299       3427.64    0.00244118       1050.79           1           1      341   \n",
            "    Iter      log prob        ||dx||      ||grad||       alpha      alpha0  # evals  Notes \n",
            "     399       3432.57    0.00895313       647.276           1           1      451   \n",
            "    Iter      log prob        ||dx||      ||grad||       alpha      alpha0  # evals  Notes \n",
            "     499       3437.67   0.000255024       157.778           1           1      575   \n",
            "    Iter      log prob        ||dx||      ||grad||       alpha      alpha0  # evals  Notes \n",
            "     554       3440.18   0.000125002       187.134    1.04e-06       0.001      691  LS failed, Hessian reset \n",
            "     599       3443.75    0.00247745       485.743           1           1      749   \n",
            "    Iter      log prob        ||dx||      ||grad||       alpha      alpha0  # evals  Notes \n",
            "     699       3445.86   0.000606457       177.763      0.3535           1      871   \n",
            "    Iter      log prob        ||dx||      ||grad||       alpha      alpha0  # evals  Notes \n",
            "     799       3446.93    0.00747784       228.013           1           1      993   \n",
            "    Iter      log prob        ||dx||      ||grad||       alpha      alpha0  # evals  Notes \n",
            "     899       3451.96   5.04614e-05       117.519      0.3424      0.3424     1123   \n",
            "    Iter      log prob        ||dx||      ||grad||       alpha      alpha0  # evals  Notes \n",
            "     982       3452.36   2.26304e-05       124.433   1.728e-07       0.001     1261  LS failed, Hessian reset \n",
            "     999       3452.42   6.25154e-05       100.651      0.4467      0.4467     1283   \n",
            "    Iter      log prob        ||dx||      ||grad||       alpha      alpha0  # evals  Notes \n",
            "    1060       3452.59   6.00127e-05       199.956   9.368e-08       0.001     1413  LS failed, Hessian reset \n",
            "    1090       3452.69   2.13363e-05       105.703   2.693e-07       0.001     1491  LS failed, Hessian reset \n",
            "    1099       3452.69   1.64903e-05       59.7345           1           1     1500   \n",
            "    Iter      log prob        ||dx||      ||grad||       alpha      alpha0  # evals  Notes \n",
            "    1130        3452.7   2.43996e-05       140.423   2.359e-07       0.001     1577  LS failed, Hessian reset \n",
            "    1167       3452.71   2.01223e-06       49.4287   3.342e-08       0.001     1673  LS failed, Hessian reset \n",
            "    1199       3452.72   7.92322e-06       56.3826      0.4485      0.4485     1712   \n",
            "    Iter      log prob        ||dx||      ||grad||       alpha      alpha0  # evals  Notes \n",
            "    1223        3452.8   3.12663e-05       177.449   1.569e-07       0.001     1780  LS failed, Hessian reset \n",
            "    1274        3452.9   9.11192e-08       50.0926     0.01272           1     1850   \n",
            "Optimization terminated normally: \n",
            "  Convergence detected: relative gradient magnitude is below tolerance\n",
            "2021-12-29 21:51:24.361 Disabling daily seasonality. Run prophet with daily_seasonality=True to override this.\n",
            "Initial log joint probability = -10.1511\n",
            "    Iter      log prob        ||dx||      ||grad||       alpha      alpha0  # evals  Notes \n",
            "      99       3386.75   0.000752858        670.48      0.2184      0.2184      121   \n",
            "    Iter      log prob        ||dx||      ||grad||       alpha      alpha0  # evals  Notes \n",
            "     199       3410.22   0.000332124       471.735      0.2102      0.2102      234   \n",
            "    Iter      log prob        ||dx||      ||grad||       alpha      alpha0  # evals  Notes \n",
            "     299       3427.64    0.00244118       1050.79           1           1      341   \n",
            "    Iter      log prob        ||dx||      ||grad||       alpha      alpha0  # evals  Notes \n",
            "     399       3432.57    0.00895313       647.276           1           1      451   \n",
            "    Iter      log prob        ||dx||      ||grad||       alpha      alpha0  # evals  Notes \n",
            "     499       3437.67   0.000255024       157.778           1           1      575   \n",
            "    Iter      log prob        ||dx||      ||grad||       alpha      alpha0  # evals  Notes \n",
            "     554       3440.18   0.000125002       187.134    1.04e-06       0.001      691  LS failed, Hessian reset \n",
            "     599       3443.75    0.00247745       485.743           1           1      749   \n",
            "    Iter      log prob        ||dx||      ||grad||       alpha      alpha0  # evals  Notes \n",
            "     699       3445.86   0.000606457       177.763      0.3535           1      871   \n",
            "    Iter      log prob        ||dx||      ||grad||       alpha      alpha0  # evals  Notes \n",
            "     799       3446.93    0.00747784       228.013           1           1      993   \n",
            "    Iter      log prob        ||dx||      ||grad||       alpha      alpha0  # evals  Notes \n",
            "     899       3451.96   5.04614e-05       117.519      0.3424      0.3424     1123   \n",
            "    Iter      log prob        ||dx||      ||grad||       alpha      alpha0  # evals  Notes \n",
            "     982       3452.36   2.26304e-05       124.433   1.728e-07       0.001     1261  LS failed, Hessian reset \n",
            "     999       3452.42   6.25154e-05       100.651      0.4467      0.4467     1283   \n",
            "    Iter      log prob        ||dx||      ||grad||       alpha      alpha0  # evals  Notes \n",
            "    1060       3452.59   6.00127e-05       199.956   9.368e-08       0.001     1413  LS failed, Hessian reset \n",
            "    1090       3452.69   2.13363e-05       105.703   2.693e-07       0.001     1491  LS failed, Hessian reset \n",
            "    1099       3452.69   1.64903e-05       59.7345           1           1     1500   \n",
            "    Iter      log prob        ||dx||      ||grad||       alpha      alpha0  # evals  Notes \n",
            "    1130        3452.7   2.43996e-05       140.423   2.359e-07       0.001     1577  LS failed, Hessian reset \n",
            "    1167       3452.71   2.01223e-06       49.4287   3.342e-08       0.001     1673  LS failed, Hessian reset \n",
            "    1199       3452.72   7.92322e-06       56.3826      0.4485      0.4485     1712   \n",
            "    Iter      log prob        ||dx||      ||grad||       alpha      alpha0  # evals  Notes \n",
            "    1223        3452.8   3.12663e-05       177.449   1.569e-07       0.001     1780  LS failed, Hessian reset \n"
          ]
        }
      ]
    }
  ]
}